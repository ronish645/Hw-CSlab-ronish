{
  "nbformat": 4,
  "nbformat_minor": 0,
  "metadata": {
    "colab": {
      "provenance": [],
      "authorship_tag": "ABX9TyMwQqC3jd9hgau7jn4AWROt",
      "include_colab_link": true
    },
    "kernelspec": {
      "name": "python3",
      "display_name": "Python 3"
    },
    "language_info": {
      "name": "python"
    }
  },
  "cells": [
    {
      "cell_type": "markdown",
      "metadata": {
        "id": "view-in-github",
        "colab_type": "text"
      },
      "source": [
        "<a href=\"https://colab.research.google.com/github/ronish645/Hw-CSlab-ronish/blob/main/Hw_7lab_ronish.ipynb\" target=\"_parent\"><img src=\"https://colab.research.google.com/assets/colab-badge.svg\" alt=\"Open In Colab\"/></a>"
      ]
    },
    {
      "cell_type": "code",
      "source": [
        "      # Q.No.1\n",
        "import random\n",
        "n = int(input(\"Number of darts thrown: \"))\n",
        "circle_point= 0\n",
        "square_point = 0\n",
        "for i in range(n**2):          # randomly generated x and y values from a uniform distribution\n",
        "  rand_x = random.uniform(-1,1)\n",
        "  rand_y = random.uniform(-1,1)\n",
        "  dist = rand_x**2 + rand_y**2              # distance between (x, y) and origin(0,0)\n",
        "\n",
        "  if dist<=1:                                \n",
        "    circle_point +=1                    \n",
        "  square_point +=1\n",
        "                      # Estimating value of pi,    pi = 4*(no. of points inside circle/ no. of points inside square)\n",
        "print('pi is approx:', 4*(circle_point/square_point))\n"
      ],
      "metadata": {
        "id": "46h6tSKAWX75"
      },
      "execution_count": null,
      "outputs": []
    },
    {
      "cell_type": "code",
      "source": [
        "  # Q. No. 2\n",
        "import random\n",
        "n = eval(input('Enter steps'))\n",
        "points = 1\n",
        "coinlst = [\"head\", \"tail\"]\n",
        "for i in range(n):\n",
        "   if random.choice(coinlst)==\"head\":\n",
        "    points +=1\n",
        "   elif random.choice(coinlst)==\"tail\":\n",
        "    points -=1\n",
        "\n",
        "if points<0:\n",
        "   print(\"behind\", points)\n",
        "\n",
        "if points>0:\n",
        "   print(\"forward\",points)\n",
        "\n",
        "if points==0:\n",
        "   print(\"You didn't move\")\n",
        "\n",
        "\n"
      ],
      "metadata": {
        "id": "Ow83zgMmYuJc"
      },
      "execution_count": null,
      "outputs": []
    }
  ]
}