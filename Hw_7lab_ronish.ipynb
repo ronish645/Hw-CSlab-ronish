{
  "nbformat": 4,
  "nbformat_minor": 0,
  "metadata": {
    "colab": {
      "provenance": [],
      "collapsed_sections": [],
      "authorship_tag": "ABX9TyPNJmgUroH2f/BfLRHVW2iG",
      "include_colab_link": true
    },
    "kernelspec": {
      "name": "python3",
      "display_name": "Python 3"
    },
    "language_info": {
      "name": "python"
    }
  },
  "cells": [
    {
      "cell_type": "markdown",
      "metadata": {
        "id": "view-in-github",
        "colab_type": "text"
      },
      "source": [
        "<a href=\"https://colab.research.google.com/github/ronish645/Hw-CSlab-ronish/blob/main/Hw_7lab_ronish.ipynb\" target=\"_parent\"><img src=\"https://colab.research.google.com/assets/colab-badge.svg\" alt=\"Open In Colab\"/></a>"
      ]
    },
    {
      "cell_type": "code",
      "source": [
        "      # Q.No.1\n",
        "import random\n",
        "n = int(input(\"Number of darts thrown: \"))\n",
        "circle_point= 0\n",
        "square_point = 0\n",
        "for i in range(n**2):          # randomly generated x and y values from a uniform distribution\n",
        "  rand_x = random.uniform(-1,1)\n",
        "  rand_y = random.uniform(-1,1)\n",
        "  dist = rand_x**2 + rand_y**2              # distance between (x, y) and origin(0,0)\n",
        "\n",
        "  if dist<=1:                                \n",
        "    circle_point +=1                    \n",
        "  square_point +=1\n",
        "                      # Estimating value of pi,    pi = 4*(no. of points inside circle/ no. of points inside square)\n",
        "print('pi is approx:', 4*(circle_point/square_point))\n"
      ],
      "metadata": {
        "id": "46h6tSKAWX75"
      },
      "execution_count": null,
      "outputs": []
    },
    {
      "cell_type": "code",
      "source": [
        "  # Q. No. 2\n"
      ],
      "metadata": {
        "id": "Ow83zgMmYuJc"
      },
      "execution_count": null,
      "outputs": []
    }
  ]
}